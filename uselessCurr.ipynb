{
 "cells": [
  {
   "cell_type": "code",
   "execution_count": 18,
   "metadata": {},
   "outputs": [
    {
     "name": "stderr",
     "output_type": "stream",
     "text": [
      "[nltk_data] Downloading package punkt to\n",
      "[nltk_data]     C:\\Users\\hdama\\AppData\\Roaming\\nltk_data...\n",
      "[nltk_data]   Package punkt is already up-to-date!\n",
      "[nltk_data] Downloading package stopwords to\n",
      "[nltk_data]     C:\\Users\\hdama\\AppData\\Roaming\\nltk_data...\n",
      "[nltk_data]   Package stopwords is already up-to-date!\n"
     ]
    },
    {
     "data": {
      "text/plain": [
       "True"
      ]
     },
     "execution_count": 18,
     "metadata": {},
     "output_type": "execute_result"
    }
   ],
   "source": [
    "import numpy as np\n",
    "import pandas as pd\n",
    "from sklearn.model_selection import train_test_split\n",
    "from sklearn.naive_bayes import GaussianNB\n",
    "# Encode categorical data\n",
    "from sklearn.preprocessing import LabelEncoder\n"
   ]
  },
  {
   "cell_type": "code",
   "execution_count": null,
   "metadata": {},
   "outputs": [],
   "source": [
    "import requests\n",
    "\n",
    "model_id = \"sentence-transformers/all-MiniLM-L6-v2\"\n",
    "hf_token = \"get your token in http://hf.co/settings/tokens\"\n",
    "\n",
    "\n",
    "api_url = f\"https://api-inference.huggingface.co/pipeline/feature-extraction/{model_id}\"\n",
    "headers = {\"Authorization\": f\"Bearer {hf_token}\"}\n",
    "\n",
    "def query(texts):\n",
    "    response = requests.post(api_url, headers=headers, json={\"inputs\": texts, \"options\":{\"wait_for_model\":True}})\n",
    "    return response.json()\n"
   ]
  },
  {
   "cell_type": "code",
   "execution_count": 19,
   "metadata": {},
   "outputs": [
    {
     "name": "stdout",
     "output_type": "stream",
     "text": [
      "0 : Banking\n",
      "1 : Civil\n",
      "2 : Constitutional\n",
      "3 : Consumer Protection\n",
      "4 : Corporate\n",
      "5 : Criminal\n",
      "6 : Entertainment\n",
      "7 : Environmental\n",
      "8 : Family\n",
      "9 : Finance\n",
      "10 : Human Rights\n",
      "11 : Immigration\n",
      "12 : Intellectual Property\n",
      "13 : Labor\n",
      "14 : Media\n",
      "15 : Medical\n",
      "16 : Real Estate\n",
      "17 : Tax\n"
     ]
    }
   ],
   "source": [
    "# Get dataSet\n",
    "dataSetPath = \"queryData.csv\"\n",
    "df = pd.read_csv(dataSetPath)\n",
    "\n",
    "# Label Encoding of Topics\n",
    "le = LabelEncoder()\n",
    "df['Topic'] = le.fit_transform(df['Topic'])\n",
    "\n",
    "uniqueLabels = list(set(df['Topic']) )\n",
    "labelKeys = le.inverse_transform(uniqueLabels)\n",
    "for i in range(len(labelKeys) ) : \n",
    "    print(f'{i} : {labelKeys[i]}')"
   ]
  },
  {
   "cell_type": "code",
   "execution_count": null,
   "metadata": {},
   "outputs": [],
   "source": []
  }
 ],
 "metadata": {
  "kernelspec": {
   "display_name": "Python 3",
   "language": "python",
   "name": "python3"
  },
  "language_info": {
   "codemirror_mode": {
    "name": "ipython",
    "version": 3
   },
   "file_extension": ".py",
   "mimetype": "text/x-python",
   "name": "python",
   "nbconvert_exporter": "python",
   "pygments_lexer": "ipython3",
   "version": "3.11.4"
  }
 },
 "nbformat": 4,
 "nbformat_minor": 2
}
