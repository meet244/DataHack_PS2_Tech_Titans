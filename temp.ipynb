{
 "cells": [
  {
   "cell_type": "code",
   "execution_count": 25,
   "metadata": {},
   "outputs": [
    {
     "name": "stdout",
     "output_type": "stream",
     "text": [
      "Consumer Protection\n",
      "Labor\n",
      "Corporate\n",
      "Intellectual Property\n",
      "Tax\n",
      "Criminal\n",
      "Civil\n",
      "Human Rights\n",
      "Family\n",
      "Real Estate\n",
      "Constitutional\n",
      "Entertainment\n",
      "Media\n",
      "Medical\n",
      "Immigration\n",
      "Environmental\n",
      "Banking\n",
      "Finance\n",
      "Kata has 24 years of experience in Family\n",
      "Kalla has 29 years of experience in Family\n",
      "Kalla has 7 years of experience in Family\n",
      "Srivastava has 9 years of experience in Family\n",
      "Wali has 15 years of experience in Environmental\n",
      "has 24 years of experience in Family\n",
      "has 8 years of experience in Human Rights\n",
      "Kara has 15 years of experience in Tax\n",
      "Ka has 2 years of experience in Immigration\n",
      "Dara has 26 years of experience in Media\n",
      "Khare has 8 years of experience in Family\n",
      "Mangal has 8 years of experience in Family\n",
      "Saini has 6 years of experience in Environmental\n",
      "Korpal has 21 years of experience in Civil\n",
      "Ganesh has 29 years of experience in Corporate\n",
      "Zacharia has 27 years of experience in Consumer Protection\n",
      "has 7 years of experience in Consumer Protection\n",
      "Kar has 8 years of experience in Medical\n",
      "Tata has 9 years of experience in Real Estate\n",
      "has 23 years of experience in Consumer Protection\n",
      "has 21 years of experience in Consumer Protection\n",
      "Dora has 26 years of experience in Family\n",
      "has 10 years of experience in Criminal\n",
      "has 18 years of experience in Banking\n",
      "Behl has 11 years of experience in Real Estate\n",
      "has 3 years of experience in Civil\n",
      "Shukla has 8 years of experience in Criminal\n",
      "Chakraborty has 25 years of experience in Tax\n",
      "Keer has 24 years of experience in Medical\n",
      "Khalsa has 27 years of experience in Labor\n",
      "Baria has 4 years of experience in Labor\n",
      "Mahajan has 7 years of experience in Family\n",
      "has 12 years of experience in Labor\n",
      "has 26 years of experience in Consumer Protection\n",
      "Kumar has 25 years of experience in Corporate\n",
      "Dutta has 25 years of experience in Human Rights\n",
      "Shankar has 22 years of experience in Medical\n",
      "Virk has 27 years of experience in Corporate\n",
      "Vig has 21 years of experience in Corporate\n",
      "Ramakrishnan has 18 years of experience in Corporate\n",
      "Dalal has 23 years of experience in Banking\n",
      "Devi has 16 years of experience in Human Rights\n",
      "Dhar has 29 years of experience in Media\n",
      "Hayer has 4 years of experience in Banking\n",
      "Doctor has 6 years of experience in Consumer Protection\n",
      "has 8 years of experience in Tax\n",
      "has 6 years of experience in Civil\n",
      "Bi has 24 years of experience in Corporate\n",
      "has 2 years of experience in Banking\n",
      "has 1 years of experience in Family\n",
      "has 17 years of experience in Labor\n",
      "Kothari has 29 years of experience in Criminal\n",
      "has 4 years of experience in Immigration\n",
      "Rajagopal has 19 years of experience in Banking\n",
      "Arya has 8 years of experience in Consumer Protection\n",
      "has 2 years of experience in Consumer Protection\n",
      "Dua has 20 years of experience in Banking\n",
      "Guha has 8 years of experience in Medical\n",
      "Aggarwal has 23 years of experience in Labor\n",
      "has 28 years of experience in Banking\n",
      "Comar has 7 years of experience in Real Estate\n",
      "Ray has 5 years of experience in Consumer Protection\n",
      "has 22 years of experience in Constitutional\n",
      "has 25 years of experience in Medical\n",
      "Samra has 25 years of experience in Tax\n",
      "Yadav has 15 years of experience in Immigration\n",
      "has 18 years of experience in Corporate\n",
      "Rajagopalan has 18 years of experience in Labor\n",
      "Arora has 10 years of experience in Media\n",
      "Sal has 27 years of experience in Corporate\n"
     ]
    }
   ],
   "source": [
    "import json\n",
    "with open('lawyers.json') as f:\n",
    "    data = json.load(f)\n",
    "\n",
    "uniq = []\n",
    "for i in data:\n",
    "    for j in i['speciality']:\n",
    "        # j = j.replace(\"and \",'').replace(\" Law\",'')\n",
    "        if(j not in uniq):\n",
    "            # print(j)\n",
    "            uniq.append(j)\n",
    "    # break\n",
    "# print(len(uniq))\n",
    "for i in uniq : \n",
    "    print(i)"
   ]
  },
  {
   "cell_type": "code",
   "execution_count": null,
   "metadata": {},
   "outputs": [],
   "source": []
  },
  {
   "cell_type": "code",
   "execution_count": 19,
   "metadata": {},
   "outputs": [
    {
     "name": "stdout",
     "output_type": "stream",
     "text": [
      "Max :  499.64\n",
      "Min :  50.11\n",
      "Avg :  268.48600800400203\n"
     ]
    }
   ],
   "source": [
    "maxP = 0\n",
    "minP = 1000\n",
    "pSum = 0\n",
    "l = 0\n",
    "\n",
    "for lawyer in data : \n",
    "    p = lawyer[\"price\"]\n",
    "    if (p > maxP) : maxP = p\n",
    "    if (p < minP) : minP = p\n",
    "    pSum += p\n",
    "    l += 1 \n",
    "    \n",
    "print(\"Max : \", maxP)\n",
    "print(\"Min : \", minP)\n",
    "print(\"Avg : \", pSum / l)"
   ]
  },
  {
   "cell_type": "code",
   "execution_count": 20,
   "metadata": {},
   "outputs": [
    {
     "name": "stdout",
     "output_type": "stream",
     "text": [
      "{'Small Businesses', 'Individuals', 'Large Corporations'}\n"
     ]
    }
   ],
   "source": [
    "ctypes = set({})\n",
    "\n",
    "for lawyer in data : \n",
    "    ctypes.add(lawyer[\"clientType\"])\n",
    "        \n",
    "    \n",
    "print(ctypes)"
   ]
  },
  {
   "cell_type": "code",
   "execution_count": 21,
   "metadata": {},
   "outputs": [
    {
     "name": "stdout",
     "output_type": "stream",
     "text": [
      "['Anay Ahluwalia', 'Arnav Dubey', 'Lavanya Lalla', 'Armaan Khosla', 'Advik Chaudry', 'Urvi Bedi', 'Rania Bansal', 'Urvi Gera', 'Shamik Kamdar', 'Ayesha Bala', 'Jayesh Kapur', 'Rohan Basu', 'Divit Kapoor', 'Vardaniya Mallick', 'Ivan Koshy', 'Reyansh Sibal', 'Vedika Vala', 'Aaryahi Sood', 'Suhana Bawa', 'Anahi Gala', 'Gatik Suresh', 'Saanvi Thakur', 'Bhavin Kata', 'Shayak Wable', 'Nakul Varughese', 'Aarush Rajagopalan', 'Krish Ramachandran', 'Rhea De', 'Sahil Dâ€™Alia', 'Eshani Hayre', 'Advika Walla', 'Aaryahi Banik', 'Yasmin Kalla', 'Mahika Varma', 'Ira Mall', 'Madhav Agarwal', 'Kanav Sahni', 'Anaya Choudhary', 'Drishya Rattan', 'Nitya Talwar', 'Ivana Madan', 'Purab Contractor', 'Riya Kannan', 'Zoya Verma', 'Jhanvi Gaba', 'Shaan Soni', 'Stuvan Krish', 'Manikya Gour', 'Kavya Rattan', 'Diya Bassi', 'Pari Garde', 'Saksham Amble', 'Jivin Kalla', 'Aaina Ganesan', 'Jayan Kaur', 'Dhruv Yohannan', 'Hiran Dave', 'Madhav Malhotra', 'Ivan Chaudhuri', 'Azad Suri', 'Priyansh Choudhry', 'Tara Bains', 'Gokul Sangha', 'Jivin Srivastava', 'Ranbir Sharaf', 'Damini Virk', 'Ivan Dhaliwal', 'Akarsh Karnik', 'Urvi Setty', 'Anahi Date', 'Tara Sood', 'Kiara Doctor', 'Ishita Choudhry', 'Yashvi Bakshi', 'Stuvan Cherian', 'Advik Dora', 'Zara Sant', 'Saksham Jani', 'Aniruddh Yohannan', 'Aniruddh Baria', 'Kartik Viswanathan', 'Lakshit Mani', 'Devansh Mangal', 'Nakul Chakraborty', 'Hridaan Bhattacharyya', 'Faiyaz Shroff', 'Nitara Saha', 'Riya Sane', 'Mohanlal Krishnan', 'Yashvi Krish', 'Rasha Deol', 'Nirvaan Ramaswamy', 'Indrans Khalsa', 'Adira Borah', 'Armaan Bhargava', 'Nirvi Kalla', 'Hrishita Raval', 'Manjari Dâ€™Alia', 'Reyansh Kota', 'Rohan Sehgal', 'Miraan Garg', 'Dhruv Guha', 'Ishita Varkey', 'Eshani Wali', 'Hiran Bhatt', 'Eshani Shukla', 'Advika Raja', 'Ela Sandal', 'Rania Deshpande', 'Farhan Solanki', 'Shlok Baria', 'Vanya Dani', 'Rohan Anand', 'Vihaan Bhatnagar', 'Darshit Karan', 'Ayesha Kar', 'Navya Hayre', 'Khushi Taneja', 'Aayush Saran', 'Saanvi Barad', 'Bhavin Wali', 'Trisha Sundaram', 'Indranil Subramaniam', 'Zoya Khalsa', 'Hazel Basu', 'Kartik Goel', 'Ojas Jain', 'Tanya Sood', 'Shlok Mangal', 'Tushar Dugar', 'Advik Mangal', 'Armaan Wagle', 'Madhav Bora', 'Pihu Gour', 'Aradhya Ravel', 'Nayantara Sunder', 'Alisha Bedi', 'Zeeshan Seshadri', 'Saira Ratti', 'Samiha Bhakta', 'Vritika Sachdev', 'Kimaya Kulkarni', 'Abram Borde', 'Ishaan Mann', 'Stuvan Keer', 'Mamooty Yadav', 'Emir Khurana', 'Manjari Jain', 'Navya Dar', 'Nayantara Goyal', 'Raunak Kaur', 'Biju Joshi', 'Trisha Barad', 'Gatik Maharaj', 'Kismat Kothari', 'Indranil Sarna', 'Kashvi Bhatnagar', 'Rhea Dayal', 'Emir Saini', 'Tanya Mann', 'Tarini Chana', 'Fateh Varty', 'Trisha Bhavsar', 'Navya Tata', 'Saksham Dixit', 'Bhavin Kara', 'Faiyaz Balay', 'Pari Raman', 'Inaaya  Kara', 'Madhav Loyal', 'Rhea Vyas', 'Aarav Batra', 'Vihaan Sastry', 'Vidur Rout', 'Nitya Sarraf', 'Dharmajan Lad', 'Prerak Dey', 'Ishaan Doshi', 'Yuvraj  Brar', 'Rasha Divan', 'Nirvi Gade', 'Khushi Shenoy', 'Ehsaan Ravi', 'Armaan Singhal', 'Rohan Atwal', 'Rohan Saini', 'Akarsh Batta', 'Elakshi Vohra', 'Urvi Kara', 'Tushar Bumb', 'Indrajit Varghese', 'Sumer Gokhale', 'Khushi Srivastava', 'Abram Garde', 'Devansh Lata', 'Nakul Kaur', 'Divij Banerjee', 'Kanav Kuruvilla', 'Amira Ramakrishnan', 'Kanav Arya', 'Ritvik Agrawal', 'Zoya Garde', 'Indranil Mani', 'Piya Sabharwal', 'Onkar Gill', 'Yuvaan Kala', 'Divyansh Desai', 'Manikya Karpe', 'Misha Bhat', 'Tara Lal', 'Amira Chad', 'Romil Doctor', 'Kartik Sidhu', 'Darshit Sarna', 'Misha Subramaniam', 'Amira Doshi', 'Dhruv Bahl', 'Diya Dhar', 'Trisha Ramaswamy', 'Ritvik Bhandari', 'Mamooty Ganesh', 'Nehmat Kaur', 'Tanya Seshadri', 'Arnav Kapur', 'Keya Mander', 'Rohan Sur', 'Lakshay Ray', 'Manjari Dass', 'Zoya Sood', 'Dhanuk Trivedi', 'Kiaan Gupta', 'Dhanush Bassi', 'Romil Sandhu', 'Anvi Basak', 'Diya Choudhry', 'Eva Desai', 'Veer Dhingra', 'Aaina Sharma', 'Vanya Dasgupta', 'Dhanuk Baral', 'Indrans Dhillon', 'Parinaaz Devi', 'Renee Ben', 'Shlok Upadhyay', 'Zaina Ghose', 'Yakshit Brahmbhatt', 'Keya Kari', 'Faiyaz Dube', 'Advik Rajagopalan', 'Raunak Vora', 'Neysa Soman', 'Advik Vaidya', 'Rati Mangal', 'Lakshit Badal', 'Uthkarsh Sur', 'Zaina Saha', 'Baiju Hegde', 'Anay Kar', 'Riya Mahal', 'Ivan Kunda', 'Nirvaan Kakar', 'Jivin Kanda', 'Saanvi Kapur', 'Tiya Mander', 'Alia Sandhu', 'Devansh Sami', 'Drishya Bora', 'Anahi Gokhale', 'Hazel Sem', 'Rhea Wason', 'Rasha Bir', 'Ahana  Kadakia', 'Arnav Shetty', 'Kiaan Bhardwaj', 'Diya Sule', 'Badal Chauhan', 'Indrajit Sarraf', 'Priyansh Bumb', 'Hazel Chand', 'Reyansh Suri', 'Manjari Mammen', 'Rohan Goda', 'Oorja Saini', 'Vritika Choudhry', 'Anay Batra', 'Devansh Cherian', 'Arhaan Contractor', 'Yuvraj  Kothari', 'Madhav Roy', 'Jayesh Shetty', 'Dharmajan Sehgal', 'Indranil Bose', 'Nirvi Sinha', 'Pihu Wason', 'Rhea Guha', 'Jayan Vig', 'Tarini Dugar', 'Hazel Keer', 'Raghav Kadakia', 'Ritvik Varma', 'Miraan Kibe', 'Divyansh Tripathi', 'Renee Andra', 'Eva Bala', 'Jivin Dara', 'Riaan Banik', 'Prisha Mall', 'Lakshit Sodhi', 'Devansh Shere', 'Pihu Bahri', 'Pari Dutta', 'Aarav Wali', 'Trisha Loyal', 'Ishaan Chandra', 'Adira Sha', 'Kiaan Koshy', 'Yashvi Sathe', 'Indrans Brar', 'Indrans Chaudhary', 'Charvi Loke', 'Ayesha Sha', 'Rasha Sarraf', 'Ehsaan Dhawan', 'Siya Shetty', 'Mamooty Kumar', 'Aniruddh Thaker', 'Dhanuk Chaudry', 'Lavanya Thaman', 'Vritika Bhatti', 'Vritika Wable', 'Miraan Sem', 'Aarush Kota', 'Myra Shetty', 'Anahita Kade', 'Misha Char', 'Parinaaz Golla', 'Divit Manne', 'Anya Balan', 'Tarini Yohannan', 'Arhaan Ganguly', 'Eshani Grewal', 'Ranbir Balakrishnan', 'Indrajit Dhar', 'Lavanya Karnik', 'Shaan Dugar', 'Tushar Bhakta', 'Uthkarsh Singh', 'Kiaan Shenoy', 'Aayush Singhal', 'Adira Sastry', 'Saira Chander', 'Dharmajan Chana', 'Rhea Chakraborty', 'Vihaan Sharaf', 'Himmat Tripathi', 'Tanya Mander', 'Adira Krishnan', 'Anya Gopal', 'Anahita Tripathi', 'Veer Bal', 'Samaira Shanker', 'Jivin Khare', 'Gatik Dubey', 'Zoya Sant', 'Shamik Tripathi', 'Kaira Chana', 'Jayesh Dugar', 'Ishaan Rattan', 'Suhana Goyal', 'Jayan Kata', 'Uthkarsh Ghosh', 'Ahana  Kata', 'Hiran Dada', 'Ishita Bains', 'Dhruv Dayal', 'Zaina Tripathi', 'Samarth Sodhi', 'Himmat Lad', 'Rasha Devi', 'Lavanya Sethi', 'Seher Tata', 'Eshani Andra', 'Arnav Bahl', 'Lagan Jhaveri', 'Aaryahi Devan', 'Indrans Venkataraman', 'Rania Salvi', 'Jivin Mangal', 'Shamik Mahal', 'Indranil Sidhu', 'Pihu Dutt', 'Vanya Tandon', 'Advik Jhaveri', 'Taran Zacharia', 'Mannat Dada', 'Nakul Chana', 'Ishaan Soni', 'Dharmajan Mand', 'Advika Tata', 'Ehsaan Varma', 'Zain Saini', 'Vihaan Rau', 'Anay Bajaj', 'Jayant Gandhi', 'Zoya Mann', 'Rania Sahota', 'Dhruv Kurian', 'Himmat Sharaf', 'Ela Iyer', 'Jayan Sha', 'Amani Lal', 'Bhamini Gera', 'Miraya Chacko', 'Lagan Yadav', 'Rasha Vaidya', 'Anahi Sule', 'Rasha Sem', 'Diya Yogi', 'Tushar Lata', 'Kartik Wali', 'Kimaya Wable', 'Tanya Banik', 'Anahita Krishna', 'Tara Kaul', 'Anahi Bakshi', 'Pranay Dutta', 'Sumer Kaur', 'Jivin Korpal', 'Emir Kapadia', 'Samaira Yadav', 'Faiyaz Kalita', 'Shamik Yogi', 'Seher Sarma', 'Kiaan Dutt', 'Vivaan Vora', 'Kimaya Tara', 'Ehsaan Chhabra', 'Saksham Dubey', 'Raghav Rege', 'Himmat Gala', 'Yuvaan Tak', 'Ela Bakshi', 'Yasmin Ganesh', 'Damini Bhatti', 'Anaya Sundaram', 'Dhanuk Mann', 'Diya Venkatesh', 'Ishita Bhagat', 'Anya Ranganathan', 'Samarth Sami', 'Mishti Handa', 'Vidur Dani', 'Gatik Ratti', 'Samar Garde', 'Darshit Kant', 'Kavya Garde', 'Neysa Chadha', 'Saanvi Deep', 'Kartik Ramakrishnan', 'Sana Chauhan', 'Taran Luthra', 'Jivin Zacharia', 'Kavya Jha', 'Damini Krishna', 'Divit Borra', 'Piya Ranganathan', 'Damini Badal', 'Aarav Mangat', 'Vanya Dara', 'Jayant Gulati', 'Nayantara Khanna', 'Diya Dar', 'Dhanush Edwin', 'Himmat Ramanathan', 'Rasha Ramakrishnan', 'Renee Contractor', 'Ayesha Halder', 'Gatik Chaudry', 'Aarna Savant', 'Nitya Golla', 'Elakshi Wadhwa', 'Oorja Ram', 'Madhup Gole', 'Drishya Bajaj', 'Anay Wagle', 'Onkar Samra', 'Dhruv Sengupta', 'Mahika Agrawal', 'Samar Bail', 'Keya Chokshi', 'Jivin Kar', 'Pari Sankar', 'Hansh Khalsa', 'Samarth Bhatt', 'Ehsaan Sodhi', 'Riya Dutt', 'Kiara Mannan', 'Hazel Mandal', 'Dhruv Yadav', 'Sahil Hans', 'Romil Dyal', 'Umang Dhar', 'Ishaan Doctor', 'Purab Trivedi', 'Stuvan Cheema', 'Vanya Sahota', 'Vedika Singhal', 'Tarini Gera', 'Riya Borra', 'Ritvik Ghosh', 'Shaan Mane', 'Akarsh Goda', 'Rasha Banik', 'Rasha Choudhary', 'Sumer Goel', 'Saksham Kumer', 'Vivaan Desai', 'Madhav Rau', 'Advik Shukla', 'Anahita Sankar', 'Tiya Bassi', 'Shamik Chahal', 'Chirag Choudhury', 'Nitya Shenoy', 'Raghav Rajagopalan', 'Armaan Datta', 'Prerak Baria', 'Hridaan Vora', 'Mamooty Bhatnagar', 'Zaina Sen', 'Damini Yohannan', 'Hansh Sami', 'Yuvaan Bakshi', 'Reyansh Shukla', 'Anika Balay', 'Alia Uppal', 'Armaan Seshadri', 'Hazel Bhatti', 'Baiju Chauhan', 'Jayant Goda', 'Nayantara Sarna', 'Indranil Balakrishnan', 'Tanya Bhargava', 'Farhan Balasubramanian', 'Divij Varughese', 'Khushi Wable', 'Ojas Banerjee', 'Mishti Rege', 'Madhav Sarraf', 'Indranil Chanda', 'Vivaan Arora', 'Samaira Vyas', 'Ritvik Samra', 'Adira Keer', 'Yasmin Tata', 'Darshit Kakar', 'Tejas Bath', 'Vedika Bedi', 'Fateh Kara', 'Umang Saxena', 'Jiya Bhakta', 'Drishya Barman', 'Jayant Basu', 'Chirag Tella', 'Vihaan Chander', 'Manikya Dani', 'Madhav Hari', 'Divit Kulkarni', 'Kavya Saran', 'Ritvik Chaudhary', 'Vanya Dass', 'Urvi Amble', 'Miraan Bajaj', 'Mamooty Kuruvilla', 'Shanaya Ahluwalia', 'Ehsaan Saraf', 'Armaan Bhasin', 'Priyansh Kapoor', 'Trisha Raval', 'Parinaaz Yogi', 'Anahi Zacharia', 'Purab Samra', 'Aaina Kaul', 'Ayesha Rao', 'Mannat Rout', 'Oorja Kale', 'Suhana Chada', 'Azad Shah', 'Vanya Maharaj', 'Jivika Sangha', 'Prerak Sami', 'Romil Banik', 'Badal Ravel', 'Ishaan Ratta', 'Kiaan Bansal', 'Tanya Jayaraman', 'Prerak Kakar', 'Manjari Zacharia', 'Eshani Rege', 'Neelofar Din', 'Heer Dube', 'Anya Divan', 'Ahana  Deshmukh', 'Baiju Upadhyay', 'Yuvaan Gade', 'Bhavin Dora', 'Chirag Hayer', 'Divij Thakur', 'Lakshay Sekhon', 'Advika Wable', 'Farhan Sarna', 'Hazel Chana', 'Riya Sarin', 'Vaibhav Andra', 'Suhana Chaudhuri', 'Jhanvi Wason', 'Dharmajan Apte', 'Khushi Thakkar', 'Mannat Loyal', 'Vritika Gill', 'Farhan Bajaj', 'Amani Yohannan', 'Saanvi Garg', 'Raghav Shanker', 'Abram Thaker', 'Sumer Viswanathan', 'Vivaan Dara', 'Inaaya  Bora', 'Charvi Sehgal', 'Arhaan Kohli', 'Shalv Gade', 'Anahita Sahota', 'Kanav Bhasin', 'Kabir Bhardwaj', 'Jiya Issac', 'Mohanlal Rastogi', 'Nirvi Ray', 'Samaira Chawla', 'Mahika Sankaran', 'Tejas Dhar', 'Indrans Das', 'Purab Hayer', 'Arnav Bora', 'Elakshi Contractor', 'Ranbir Samra', 'Khushi Kohli', 'Anaya Sama', 'Jivin Behl', 'Aniruddh Kala', 'Adah Gera', 'Devansh Bal', 'Tushar Setty', 'Kimaya Shere', 'Saanvi Bhatnagar', 'Faiyaz Barad', 'Anahita Ganesh', 'Parinaaz Singh', 'Neelofar Jain', 'Vivaan Mallick', 'Hridaan Shetty', 'Nitya Dara', 'Yasmin Shukla', 'Uthkarsh Raman', 'Anahi Shah', 'Arhaan Basak', 'Jayesh Bhat', 'Shanaya Chada', 'Advik Loke', 'Vidur Master', 'Samar Chaudhari', 'Baiju Ramakrishnan', 'Jayan Bahl', 'Suhana Saini', 'Farhan Rattan', 'Urvi Gupta', 'Kiaan Ravel', 'Ryan Hegde', 'Ranbir Manne', 'Anika Sen', 'Rohan Banik', 'Drishya Sandal', 'Kanav Walla', 'Zain Chakraborty', 'Urvi Kothari', 'Tejas Krishnan', 'Vidur Bains', 'Anaya Rastogi', 'Nehmat Savant', 'Yuvraj  Kumar', 'Badal Krishnamurthy', 'Nakul Goda', 'Shlok Ratti', 'Vedika Varty', 'Bhamini Kale', 'Zeeshan Sharma', 'Mohanlal Lal', 'Bhavin Keer', 'Anahi Grover', 'Zeeshan Kara', 'Darshit Chhabra', 'Stuvan Comar', 'Farhan Bhalla', 'Lagan Kari', 'Pihu Sangha', 'Miraya Boase', 'Hrishita Babu', 'Alisha Goda', 'Advika Kashyap', 'Jiya Dash', 'Heer Datta', 'Eva Deshmukh', 'Ranbir Krishnan', 'Sana De', 'Myra Yogi', 'Jivin Khalsa', 'Nishith Vig', 'Reyansh Thaman', 'Yasmin Baria', 'Alia Wali', 'Dharmajan Sami', 'Ranbir Bumb', 'Eva Ram', 'Akarsh Virk', 'Vaibhav Dâ€™Alia', 'Zain Mahajan', 'Anaya Chakrabarti', 'Raunak Dayal', 'Khushi Devan', 'Aaina Sundaram', 'Lakshit Wable', 'Jhanvi Kale', 'Tarini Upadhyay', 'Fateh Kari', 'Samaira Sundaram', 'Jayan Hayer', 'Shalv Bhasin', 'Dhruv Chokshi', 'Nishith Gulati', 'Ishita Kaul', 'Heer Vala', 'Kavya Sawhney', 'Ela Bail', 'Zara Butala', 'Anay Subramaniam', 'Hansh Bawa', 'Advika Vasa', 'Devansh Shroff', 'Alisha Reddy', 'Saanvi Madan', 'Gokul Jain', 'Saksham Srinivas', 'Heer Roy', 'Advik Bala', 'Vivaan Baral', 'Nitya Amble', 'Sahil Bhardwaj', 'Hrishita Ratta', 'Vedika Keer', 'Hazel Basak', 'Samar Chandran', 'Zeeshan Chahal', 'Kismat Raman', 'Damini Mandal', 'Dhanuk Ganesan', 'Romil Choudhury', 'Vaibhav Walla', 'Ivan Mane', 'Indrajit Tripathi', 'Indrajit Dara', 'Jayesh Solanki', 'Uthkarsh Kibe', 'Kimaya Sachar', 'Azad Venkatesh', 'Vihaan Bath', 'Ela Kaul', 'Veer Master', 'Divyansh Devan', 'Stuvan Kota', 'Raunak Saraf', 'Siya Krish', 'Kiaan Gaba', 'Pari Sama', 'Neelofar Sule', 'Abram Tripathi', 'Eshani Kota', 'Lakshay Swamy', 'Nitya Jhaveri', 'Saira Thakur', 'Darshit Kulkarni', 'Kabir Tella', 'Riya Iyer', 'Trisha Bora', 'Lagan Varma', 'Piya Dhar', 'Renee Ratti', 'Jayan Goda', 'Yashvi Jhaveri', 'Shlok Mangat', 'Umang Keer', 'Vaibhav Kaur', 'Uthkarsh Thaker', 'Chirag Sheth', 'Mohanlal Ram', 'Purab Mangat', 'Neysa Bansal', 'Yuvraj  Bali', 'Reyansh Varghese', 'Prerak Sama', 'Riya Bera', 'Siya Karan', 'Tiya Bhargava', 'Parinaaz Borde', 'Ela Behl', 'Dharmajan De', 'Neysa Bhalla', 'Riya Bhatia', 'Suhana Chopra', 'Ela Mann', 'Fateh Kalla', 'Rati Contractor', 'Nishith Saraf', 'Amani Yogi', 'Vanya Kala', 'Lakshit Garg', 'Yasmin Kumar', 'Prerak Chander', 'Hansh Sen', 'Nitya Varty', 'Himmat Sani', 'Tushar Dasgupta', 'Misha Shenoy', 'Aaina Sule', 'Madhup Bhalla', 'Nirvaan Dugar', 'Jayesh Kara', 'Nirvi Loke', 'Romil Mall', 'Aradhya Grover', 'Hansh Jhaveri', 'Ela Dugar', 'Indranil Bal', 'Neysa Bhat', 'Inaaya  Kala', 'Adah Deo', 'Arnav Badal', 'Stuvan Talwar', 'Dhruv De', 'Farhan Chahal', 'Miraya Tank', 'Hazel Thaker', 'Rhea Dar', 'Taran Baral', 'Tara Loke', 'Kashvi Date', 'Ryan Jaggi', 'Vivaan Sarna', 'Navya Shukla', 'Damini Sinha', 'Kimaya Hayer', 'Azad Vala', 'Lakshit Shankar', 'Charvi Rao', 'Anaya Arora', 'Ira Kannan', 'Yasmin Dutta', 'Mehul Basu', 'Fateh Char', 'Hunar Mandal', 'Anaya Sathe', 'Vidur Bhakta', 'Manjari Brahmbhatt', 'Anay Kumar', 'Samar Kothari', 'Ahana  Kakar', 'Nirvaan Chanda', 'Nirvaan Kapur', 'Jayan Kunda', 'Manikya Shankar', 'Saanvi Issac', 'Jivika Badami', 'Abram Sachar', 'Ishita Mahajan', 'Ritvik Brar', 'Tushar Dubey', 'Nayantara Dugar', 'Rohan Dara', 'Yuvaan Atwal', 'Amira Sharaf', 'Alisha Tailor', 'Anvi Rattan', 'Yasmin Shankar', 'Dishani Krishnan', 'Taimur Gour', 'Neysa Balay', 'Madhav Ratta', 'Rohan Rastogi', 'Anika Johal', 'Tara Dara', 'Lagan Majumdar', 'Aarav Madan', 'Renee Goda', 'Ivana Gera', 'Vritika Varma', 'Ojas Rana', 'Kimaya Bhatt', 'Seher Gupta', 'Charvi Atwal', 'Khushi Thaker', 'Elakshi Thaman', 'Reyansh Kohli', 'Ranbir Contractor', 'Prerak Shenoy', 'Samiha Toor', 'Kashvi Kuruvilla', 'Jivin Virk', 'Mannat Joshi', 'Zeeshan Varghese', 'Advika Sarraf', 'Badal Bansal', 'Bhamini Boase', 'Kabir Shukla', 'Tara Ganesh', 'Aarna Iyer', 'Indrajit Deshpande', 'Tiya Cherian', 'Indrans Buch', 'Manikya Kapoor', 'Dishani Basu', 'Nitya Bhatia', 'Madhup Lad', 'Adira Gade', 'Alia Tank', 'Manikya Malhotra', 'Trisha Bera', 'Aarna Deo', 'Aaryahi Lall', 'Vidur Ahluwalia', 'Pranay Balasubramanian', 'Sahil Taneja', 'Dhanuk Wadhwa', 'Aniruddh Sarma', 'Vardaniya Balay', 'Anay Mall', 'Sumer Dave', 'Neelofar Sarna', 'Hansh Buch', 'Purab Deo', 'Sumer Gandhi', 'Hansh Sharaf', 'Bhavin Vig', 'Baiju Dua', 'Adira Khalsa', 'Aaryahi Chowdhury', 'Taimur Shah', 'Aniruddh Dugar', 'Mannat Acharya', 'Suhana Kohli', 'Taran Bajwa', 'Yakshit Gala', 'Faiyaz Dasgupta', 'Jhanvi Gade', 'Diya Arya', 'Rasha Ranganathan', 'Akarsh Bansal', 'Kabir Rajagopal', 'Raghav Mahajan', 'Anahi Dar', 'Shalv Lata', 'Sumer Gara', 'Nayantara Sama', 'Samar Bhatnagar', 'Adah Dara', 'Samar Roy', 'Damini Shanker', 'Amira Lall', 'Yakshit Deshmukh', 'Saira Loke', 'Heer Dixit', 'Aniruddh Balay', 'Mohanlal Sane', 'Miraya Rout', 'Aaina Sani', 'Neelofar Acharya', 'Ritvik Kamdar', 'Uthkarsh Doctor', 'Manjari Kumer', 'Dharmajan Chaudhari', 'Ehsaan Mahajan', 'Shlok Subramaniam', 'Piya Chakrabarti', 'Heer Bhatti', 'Ryan Barad', 'Shaan Dhar', 'Rhea Solanki', 'Aniruddh Gopal', 'Hrishita Iyengar', 'Neysa Bhattacharyya', 'Divit Mannan', 'Ojas Rajagopal', 'Yuvraj  Seshadri', 'Neysa Bassi', 'Urvi Hayre', 'Hiran Bali', 'Aniruddh Khanna', 'Divyansh Lala', 'Rati Chaudhary', 'Jiya Lad', 'Jivin Ramakrishnan', 'Stuvan Dora', 'Mannat Devan', 'Rati Srivastava', 'Lakshay Chander', 'Zoya Date', 'Amira Mall', 'Divit Buch', 'Neysa Kala', 'Alia Suri', 'Onkar Lad', 'Yashvi Sami', 'Kashvi Dugal', 'Vritika Loke', 'Piya Gulati', 'Ira Devi', 'Mohanlal Kala', 'Rania Bhatt', 'Kartik Loke', 'Ryan Kala', 'Ivana Amble', 'Hridaan Dada', 'Pari Ben', 'Vritika Jha', 'Tushar Rattan', 'Lavanya Kibe', 'Ira Lata', 'Taimur Lalla', 'Faiyaz Saxena', 'Kartik Bhatia', 'Jayesh Gara', 'Dishani Zacharia', 'Reyansh Baral', 'Drishya Madan', 'Navya Ramaswamy', 'Jiya Khalsa', 'Shaan Kanda', 'Aaina Singhal', 'Tara Mander', 'Shaan Bhargava', 'Aaryahi Rajagopalan', 'Yasmin Dalal', 'Zain Devi', 'Lakshit Chawla', 'Misha Bava', 'Chirag Sachdeva', 'Hridaan Sen', 'Damini Ramakrishnan', 'Zeeshan Mandal', 'Jayant Doshi', 'Veer Tella', 'Dhruv Wason', 'Manikya Boase', 'Darshit Batta', 'Devansh Bath', 'Kabir Sahota', 'Manikya Kothari', 'Kiara Yogi', 'Trisha Ganesh', 'Dhanush Chauhan', 'Kaira Raman', 'Saksham Yadav', 'Nehmat Bajwa', 'Divit Sampath', 'Saira Sundaram', 'Vihaan Tandon', 'Bhavin Dhar', 'Damini Dora', 'Raunak Mammen', 'Baiju Gulati', 'Amira Bal', 'Emir Sunder', 'Shray Gupta', 'Samarth Gade', 'Mohanlal Keer', 'Elakshi Chana', 'Purab Andra', 'Misha Khare', 'Arnav Konda', 'Yuvaan Kadakia', 'Dharmajan Chada', 'Shayak Kant', 'Jayesh Kala', 'Piya Bath', 'Neysa Gupta', 'Tejas Subramanian', 'Bhamini Khanna', 'Eva Vyas', 'Alia Shan', 'Reyansh Sharaf', 'Divyansh Kashyap', 'Dhruv Solanki', 'Diya Korpal', 'Anika Shere', 'Fateh Bhatia', 'Yuvraj  Basak', 'Jiya Golla', 'Miraya Toor', 'Vanya Gaba', 'Onkar Dua', 'Indranil Madan', 'Priyansh Bajwa', 'Sara Thaker', 'Amani Ranganathan', 'Jivika Shroff', 'Aradhya Shanker', 'Divij Hayer', 'Kabir Shan', 'Anahita Mammen', 'Samiha Ben', 'Ahana  Samra', 'Divyansh Sekhon', 'Navya Hayer', 'Yuvaan Walia', 'Purab Datta', 'Khushi Johal', 'Nehmat Behl', 'Samarth Das', 'Indrans Upadhyay', 'Aaina Kurian', 'Shamik Wali', 'Rhea Balan', 'Vihaan Bhagat', 'Alia Choudhury', 'Romil Iyer', 'Jiya Shah', 'Kartik Thaker', 'Zeeshan Char', 'Vanya Baral', 'Vaibhav Thakur', 'Priyansh Raval', 'Ritvik Gopal', 'Hunar Dara', 'Anay Dutt', 'Rohan Arya', 'Suhana Ghosh', 'Dharmajan Sandhu', 'Samar Kurian', 'Kanav Khatri', 'Manikya Chaudhari', 'Rasha Bhandari', 'Hansh Iyer', 'Biju Lata', 'Oorja Lalla', 'Advik Mannan', 'Ryan Ranganathan', 'Yuvaan Sha', 'Abram Sidhu', 'Akarsh Lalla', 'Misha Krish', 'Sumer Wadhwa', 'Jivin Hayer', 'Vanya Bandi', 'Ojas Thakkar', 'Advika Ahluwalia', 'Mahika Dass', 'Aaryahi Sama', 'Stuvan Rajagopal', 'Sumer Wable', 'Aaina Gopal', 'Yashvi Ram', 'Akarsh Kannan', 'Samar Lanka', 'Indrans Goel', 'Lakshit Balakrishnan', 'Shanaya Mangat', 'Anahita Sagar', 'Abram Sanghvi', 'Lakshit Ray', 'Kanav Dyal', 'Anika Shan', 'Zain Doctor', 'Jiya Goel', 'Heer Shroff', 'Zoya Chand', 'Miraya Kade', 'Akarsh Sidhu', 'Manikya Bhardwaj', 'Divit Solanki', 'Keya Dar', 'Akarsh Raj', 'Dhanush Sem', 'Ira Kari', 'Ranbir Dhingra', 'Kabir Dar', 'Lavanya Bajwa', 'Parinaaz Deol', 'Alia Kurian', 'Jiya Hegde', 'Divyansh Sule', 'Faiyaz Ben', 'Umang Ben', 'Charvi Virk', 'Ishita Sangha', 'Yashvi Sha', 'Kismat Jayaraman', 'Kaira Devan', 'Manikya Bath', 'Adah Sarin', 'Emir Bhagat', 'Rohan Gala', 'Urvi Dixit', 'Chirag Krishnan', 'Zeeshan Vohra', 'Neelofar Karpe', 'Ivana Zacharia', 'Priyansh Wason', 'Jivika Aurora', 'Ranbir Banerjee', 'Mehul Edwin', 'Jayant Kala', 'Lagan Saini', 'Yasmin Bandi', 'Mishti Baral', 'Ela Chaudhry', 'Ryan Arora', 'Aaryahi Sarin', 'Misha Bera', 'Sana Thaker', 'Lakshay Shroff', 'Hazel Vala', 'Dishani Kalita', 'Akarsh Bal', 'Urvi Boase', 'Hridaan Sur', 'Taran Kaul', 'Sana Varughese', 'Adira Bumb', 'Rhea Shroff', 'Dishani Khanna', 'Renee Gole', 'Siya Issac', 'Rohan Rana', 'Dishani Jhaveri', 'Saksham Balan', 'Jayant Soman', 'Fateh Kohli', 'Onkar Bhattacharyya', 'Keya Dhawan', 'Kismat Banerjee', 'Farhan Ramanathan', 'Pranay Tak', 'Chirag Kapadia', 'Prisha Sibal', 'Dhruv Mani', 'Baiju Golla', 'Riya Loyal', 'Myra Sankaran', 'Dhruv Raman', 'Tarini Balay', 'Aarush Kakar', 'Rati Bhakta', 'Kashvi Bali', 'Prisha Thaman', 'Kaira Madan', 'Damini Raju', 'Jhanvi Bava', 'Hrishita Toor', 'Shanaya Dasgupta', 'Anvi Chander', 'Rati Bhasin', 'Eshani Tata', 'Vritika Kar', 'Aniruddh Sule', 'Nehmat Ramaswamy', 'Shamik Sama', 'Yuvraj  Venkatesh', 'Eshani Deshmukh', 'Amani Hans', 'Anya Viswanathan', 'Vidur Vora', 'Advik Varghese', 'Tanya Bera', 'Pranay Dhar', 'Samiha Gokhale', 'Aarush Sibal', 'Mamooty Vaidya', 'Devansh Bhagat', 'Aaryahi Warrior', 'Prerak Gera', 'Umang Kulkarni', 'Shamik Seth', 'Krish Lata', 'Vihaan Agrawal', 'Azad Lal', 'Vidur Ramanathan', 'Bhamini Khalsa', 'Arhaan Hora', 'Aradhya Lad', 'Yuvaan Babu', 'Anika Lal', 'Prerak Dar', 'Azad Bose', 'Vedika Balan', 'Yakshit Bajaj', 'Ela Kanda', 'Ishaan Bhandari', 'Vihaan Gola', 'Shamik Halder', 'Kashvi Sangha', 'Lavanya Sood', 'Riya Doshi', 'Suhana Bains', 'Nirvi Bhatt', 'Faiyaz Chaudhry', 'Ryan Dhar', 'Nakul Wason', 'Himmat Kalla', 'Pari Samra', 'Lakshit Krishnan', 'Siya Bera', 'Nayantara Bhat', 'Uthkarsh Sharaf', 'Vihaan Atwal', 'Indrajit Kalita', 'Dhanuk Dâ€™Alia', 'Arhaan Halder', 'Eshani Keer', 'Sahil Kar', 'Badal Zachariah', 'Mohanlal Iyer', 'Yuvaan Lalla', 'Rania Srivastava', 'Shalv Edwin', 'Aarna Dhar', 'Kismat Sule', 'Ivana Chaudry', 'Zara Uppal', 'Damini Sarkar', 'Shamik Ganesh', 'Priyansh Din', 'Seher Sandal', 'Vaibhav Som', 'Alia Desai', 'Mahika Verma', 'Nirvi Baria', 'Jayan Aurora', 'Charvi Basu', 'Charvi Issac', 'Prerak Varty', 'Amira Chand', 'Aaryahi Gour', 'Misha Bhavsar', 'Anay Chawla', 'Umang Mand', 'Jivin Kothari', 'Jayant Contractor', 'Kiaan Das', 'Saira Gala', 'Sumer Kanda', 'Nirvi Sani', 'Nirvaan Bhavsar', 'Dhanuk Keer', 'Aarush Kumar', 'Piya Mahajan', 'Aaina Rege', 'Hrishita Ratti', 'Hunar Kuruvilla', 'Tiya Doshi', 'Ishaan Bora', 'Jayesh Aggarwal', 'Tiya Banik', 'Yuvaan Sheth', 'Eva Ahuja', 'Kimaya Dhingra', 'Manikya Ravel', 'Hansh Chahal', 'Kabir Singh', 'Tushar Kurian', 'Prerak Banik', 'Aradhya Kunda', 'Dhruv Buch', 'Shanaya Golla', 'Ivana Tak', 'Dharmajan Gour', 'Rhea Kant', 'Indranil Khare', 'Yashvi Iyer', 'Stuvan Sane', 'Purab Ravi', 'Tara Mani', 'Zoya Wali', 'Samarth Gaba', 'Nehmat Loyal', 'Hansh Mane', 'Nayantara Walia', 'Mohanlal Tank', 'Kiaan Aggarwal', 'Aarna Balan', 'Rati Chada', 'Nakul Bhatti', 'Samar Sarin', 'Indrajit Johal', 'Riaan Doctor', 'Vritika Saha', 'Ehsaan Bhakta', 'Hunar Lal', 'Rati Bobal', 'Badal Karpe', 'Tara Bath', 'Adira Chauhan', 'Umang Viswanathan', 'Ira Ratta', 'Aaryahi Rama', 'Nakul Rau', 'Nitya Baria', 'Bhamini Gour', 'Urvi Borah', 'Indrans Bajwa', 'Gokul Jhaveri', 'Romil Bal', 'Neelofar Dubey', 'Shlok Tak', 'Misha Kant', 'Gatik Issac', 'Arhaan Bhalla', 'Kismat Taneja', 'Dhanush Das', 'Anaya Tandon', 'Indrajit Wason', 'Shaan Kadakia', 'Hridaan Balakrishnan', 'Mohanlal Verma', 'Anay Tank', 'Pari Kari', 'Fateh Doshi', 'Mannat Kulkarni', 'Neysa Varkey', 'Jayan Buch', 'Saksham Trivedi', 'Hansh Arya', 'Krish Manne', 'Madhup Kalla', 'Adira Gopal', 'Vardaniya Rau', 'Hazel Lal', 'Gatik Kala', 'Shayak Chanda', 'Ela Kohli', 'Manjari Balakrishnan', 'Miraan Balan', 'Krish Dubey', 'Nitya Shah', 'Bhamini Kibe', 'Nishith Handa', 'Raghav Rajan', 'Nayantara Sanghvi', 'Sumer Halder', 'Shray Sura', 'Priyansh Talwar', 'Amira Choudhary', 'Ishita Gulati', 'Sumer Wali', 'Hiran Saxena', 'Aayush Lalla', 'Zain Rajagopal', 'Bhavin Arya', 'Aarav Rajan', 'Hunar Chadha', 'Shanaya Sachdev', 'Reyansh Anand', 'Aniruddh Ben', 'Rania Trivedi', 'Faiyaz Agate', 'Armaan Kannan', 'Tejas Banerjee', 'Eva Sandal', 'Azad Sen', 'Vivaan Kapadia', 'Lakshit Venkatesh', 'Samar Garg', 'Vidur Sha', 'Vidur Swamy', 'Manjari Samra', 'Fateh Sahota', 'Jivika Rege', 'Madhup Uppal', 'Darshit Gole', 'Reyansh Zacharia', 'Samarth Din', 'Shalv Guha', 'Shray Sami', 'Miraya Dhawan', 'Nitya Dhaliwal', 'Ahana  Balan', 'Saira Upadhyay', 'Saira Chhabra', 'Shalv Chawla', 'Divit Amble', 'Vardaniya Bora', 'Shayak Ben', 'Bhavin Dua', 'Parinaaz Badal', 'Rasha Desai', 'Indrans Shukla', 'Ishita Balasubramanian', 'Manikya Dugal', 'Eva Hayer', 'Rohan Dave', 'Kabir Kakar', 'Eshani Kapoor', 'Suhana Sachdev', 'Yuvraj  Sawhney', 'Shamik Chandra', 'Ahana  Rau', 'Drishya Gandhi', 'Aaina Sampath', 'Riaan Chawla', 'Manjari Sant', 'Madhav Upadhyay', 'Badal Biswas', 'Keya Sangha', 'Taran Johal', 'Jivika Kulkarni', 'Ira Bora', 'Yasmin Guha', 'Ritvik Karan', 'Yakshit Subramaniam', 'Lavanya Keer', 'Saira Vasa', 'Kartik Mannan', 'Arhaan Deep', 'Veer Chaudry', 'Lakshit Kothari', 'Heer Borde', 'Dhruv Goda', 'Kashvi Aurora', 'Nitya Khosla', 'Alisha Acharya', 'Advik Brar', 'Ira Gara', 'Miraan Raman', 'Umang Jhaveri', 'Umang Batra', 'Aarav Lal', 'Riya Basu', 'Akarsh Kala', 'Veer Gaba', 'Samarth Hari', 'Darshit Tak', 'Ishita Kala', 'Priyansh Dara', 'Badal Basak', 'Devansh Kumer', 'Krish Kulkarni', 'Pranay Talwar', 'Abram Dave', 'Jiya Doctor', 'Manjari Dar', 'Ayesha Malhotra', 'Prisha Date', 'Yakshit Bala', 'Lakshit Sule', 'Devansh Aggarwal', 'Yakshit Ramesh', 'Hrishita Shankar', 'Sara Kant', 'Kartik Deshmukh', 'Purab Sharma', 'Aayush Apte', 'Badal Bajaj', 'Vaibhav Bhatnagar', 'Suhana Dewan', 'Kabir Dyal', 'Ojas Lanka', 'Faiyaz Vyas', 'Jhanvi Doshi', 'Faiyaz Dave', 'Jivin Aggarwal', 'Ehsaan Sama', 'Pranay Dutt', 'Himmat Mandal', 'Madhup Hayre', 'Nakul Gera', 'Oorja Sridhar', 'Madhup Rama', 'Kabir Sabharwal', 'Ela Goswami', 'Lakshit Chhabra', 'Jayant Rastogi', 'Ela Mallick', 'Shamik Keer', 'Dhanuk Sarin', 'Hunar Saraf', 'Shalv Dutt', 'Akarsh Gandhi', 'Hridaan Basu', 'Veer Chada', 'Sumer Sura', 'Kismat Gopal', 'Ayesha Shenoy', 'Prerak Bedi', 'Armaan Mani', 'Saira Madan', 'Neysa Dada', 'Samarth De', 'Sahil Borde', 'Urvi Rajan', 'Ivana Gola', 'Aradhya Gill', 'Hansh Sachdev', 'Adah Ramakrishnan', 'Yasmin Comar', 'Shayak Dasgupta', 'Kiara Karpe', 'Sana Iyengar', 'Dhanush Kulkarni', 'Tarini Bora', 'Ira Gaba', 'Bhamini Basu', 'Yakshit Chawla', 'Jayant Manda', 'Khushi Vaidya', 'Siya Bath', 'Indrajit Brahmbhatt', 'Vaibhav Rastogi', 'Anahi Babu', 'Anay Jani', 'Mohanlal Saxena', 'Jivin Ray', 'Vivaan Bhavsar', 'Saira De', 'Purab Sami', 'Misha Ben', 'Adira Virk', 'Ivan Bath', 'Vardaniya Apte', 'Krish Dâ€™Alia', 'Rati Dhillon', 'Vritika Tiwari', 'Vritika Luthra', 'Aarna Doctor', 'Hrishita Sur', 'Vritika Hayre', 'Romil Arya', 'Sana Sachdev', 'Elakshi Chadha', 'Anaya Ravel', 'Nishith Bakshi', 'Sana Din', 'Shray Roy', 'Shray Sampath', 'Samiha Wali', 'Hunar Balasubramanian', 'Eshani Agate', 'Anaya Agate', 'Diya Verma', 'Rhea Mandal', 'Adah Sami', 'Aayush Bala', 'Tara Suri', 'Tejas Gaba', 'Mannat Chakrabarti', 'Rati Krishnan', 'Umang Singh', 'Rhea Lal', 'Aarush Issac', 'Lakshit Dhaliwal', 'Inaaya  Wagle', 'Misha Batta', 'Aaina Kanda', 'Sahil Sawhney', 'Shamik Chaudhuri', 'Advik Chaudhari', 'Faiyaz Tripathi', 'Aradhya Iyengar', 'Aarush Kunda', 'Alia Rao', 'Baiju Choudhury', 'Vritika Chadha', 'Lavanya Sastry', 'Taimur Krish', 'Jayesh Goyal', 'Kashvi Goel', 'Drishya Dugar', 'Zoya Chacko', 'Hunar Acharya', 'Reyansh Dutt', 'Trisha Tella', 'Vedika Mangal', 'Lagan Bir', 'Heer Agarwal', 'Oorja Sharaf', 'Uthkarsh Chakrabarti', 'Arnav Andra', 'Pranay Chander', 'Biju Sankaran', 'Damini Bhargava', 'Khushi Bassi', 'Nakul Yogi', 'Romil Goyal', 'Parinaaz Doctor', 'Tejas Madan', 'Baiju Din', 'Veer Barad', 'Vihaan Apte', 'Abram Buch', 'Anya Chhabra', 'Madhav Chakrabarti', 'Ela Sunder', 'Adah Khanna', 'Kabir Dutt', 'Samiha Saha', 'Romil Rau', 'Mahika Ravi', 'Jiya Brar', 'Yuvraj  Konda', 'Jhanvi Sharma', 'Rasha Chander', 'Aarav Dhingra', 'Anika Bala', 'Elakshi Dhingra', 'Yashvi Chanda', 'Shamik Chad', 'Tejas Chander', 'Samarth Tella', 'Rania Buch', 'Kashvi Butala', 'Raunak Dugal', 'Navya Khanna', 'Yashvi Bath', 'Rohan Kapadia', 'Alisha Walla', 'Zara Vig', 'Hazel Dhawan', 'Romil Magar', 'Jayant Manne', 'Neelofar Lad', 'Romil Chaudhary', 'Onkar Bajaj', 'Heer Mahajan', 'Kismat Zachariah', 'Raunak Bala', 'Taran Dutt', 'Vedika Saini', 'Manjari Thaman', 'Uthkarsh Bhatia', 'Jayant Bumb', 'Advik Manda', 'Dhruv Koshy', 'Stuvan Raju', 'Jayesh Raj', 'Umang Char', 'Aaina Upadhyay', 'Amira Srinivasan', 'Mehul Kant', 'Aayush Singh', 'Divij Sethi', 'Drishya Chanda', 'Jayant Raman', 'Siya Golla', 'Hansh Kala', 'Farhan Boase', 'Jiya Shetty', 'Saanvi Mani', 'Dhanush Bakshi', 'Zara Varughese', 'Elakshi Kadakia', 'Abram Sabharwal', 'Prerak Devi', 'Tejas Ganesan', 'Samaira Sampath', 'Mannat Chaudhary', 'Kiara Sharaf', 'Vivaan Barad', 'Kaira Singhal', 'Ryan Doctor', 'Ehsaan Gupta', 'Tushar Thakkar', 'Bhavin Samra', 'Urvi Bal', 'Zaina Deo', 'Adah Chaudhuri', 'Riaan Shankar', 'Rasha Kunda', 'Aaryahi Magar', 'Mahika Mandal', 'Lakshit Sawhney', 'Ishita Joshi', 'Suhana Baria', 'Nishith Borra', 'Arhaan Venkataraman', 'Shanaya Suri', 'Advik Desai', 'Saksham Roy', 'Ela Rege', 'Tarini Grover', 'Dhruv Shetty', 'Onkar Garg', 'Inaaya  Sunder', 'Anya Kapadia', 'Stuvan Mani', 'Divij Kale', 'Indrajit Warrior', 'Kanav Kibe', 'Zara Dani', 'Divit Maharaj', 'Romil Sharaf', 'Vidur Bala', 'Navya Brar', 'Anay Sani', 'Nehmat Dewan', 'Gokul Saha', 'Drishya Varkey', 'Nishith Shroff', 'Ivan Rajagopalan', 'Piya Choudhury', 'Himmat Chauhan', 'Samiha Kala', 'Akarsh Bera', 'Anay Rau', 'Onkar Mahajan', 'Ivana Halder', 'Aayush Desai', 'Darshit Golla', 'Priyansh Sundaram', 'Shanaya Chakrabarti', 'Zain Yadav', 'Ela Subramaniam', 'Inaaya  Mammen', 'Riaan Gara', 'Armaan Malhotra', 'Raghav Dayal', 'Amira Tailor', 'Uthkarsh Lata', 'Anvi Ravel', 'Shamik Aggarwal', 'Anvi Sabharwal', 'Zara Kari', 'Uthkarsh Madan', 'Oorja Sarma', 'Amira Chandran', 'Tushar Savant', 'Nirvaan Bhatia', 'Yashvi Wadhwa', 'Oorja Biswas', 'Zaina Sarin', 'Khushi Verma', 'Shray Devan', 'Anika Balasubramanian', 'Vivaan Gour', 'Akarsh Mannan', 'Aarush De', 'Eva Barad', 'Jivin Rajagopalan', 'Charvi Warrior', 'Zoya Subramaniam', 'Ryan Vala', 'Zoya Chana', 'Rohan Manne', 'Romil Kapur', 'Tanya Ravel', 'Hrishita Suresh', 'Vritika Sathe', 'Neelofar Vora', 'Kabir Tak', 'Samaira Bir', 'Aradhya Sehgal', 'Adah Hayre', 'Fateh Dhar', 'Hansh Balay', 'Ahana  Wadhwa', 'Rhea Rajagopal', 'Nayantara Konda', 'Madhav Rastogi', 'Nehmat Brahmbhatt', 'Oorja Sarkar', 'Neysa Chatterjee', 'Kashvi Bhat', 'Lavanya Joshi', 'Damini Golla', 'Vardaniya Ravel', 'Badal Gupta', 'Jayesh Chander', 'Nitya Kalita', 'Manjari Sunder', 'Prisha Bandi', 'Mishti Dani', 'Bhamini Hegde', 'Aaryahi Randhawa', 'Oorja Dasgupta', 'Ishaan Cheema', 'Ela Kata', 'Himmat Korpal', 'Anya Bose', 'Adah Mallick', 'Advik Sharaf', 'Lakshit Kumer', 'Dhanush Chokshi', 'Mamooty Shah', 'Yakshit Sanghvi', 'Pari Sane', 'Kismat Goyal', 'Dhanuk Bhagat', 'Aarush Goyal', 'Advik Dara', 'Nakul Swamy', 'Lavanya Salvi', 'Nirvi Sarkar', 'Stuvan Shan', 'Shamik Sibal', 'Divij Roy', 'Hrishita Kapur', 'Advik Kala', 'Zoya Bhatt', 'Yasmin Arora', 'Kanav Khalsa', 'Indrajit Hegde', 'Nishith Anne', 'Adah Dass', 'Krish Mahajan', 'Baiju Lalla', 'Myra Ramakrishnan', 'Madhup Sharaf', 'Ritvik Jhaveri', 'Rhea Deshpande', 'Eshani Majumdar', 'Mishti Goswami', 'Aniruddh Chawla', 'Vaibhav Raja', 'Myra Krish', 'Madhup Aggarwal', 'Riya Krish', 'Urvi Krishnamurthy', 'Aarna Rajagopal', 'Kanav Kapadia', 'Drishya Mand', 'Mohanlal Sarkar', 'Ayesha Anne', 'Vaibhav Kota', 'Seher Buch', 'Nayantara Saraf', 'Yuvaan Agate', 'Ahana  Kapadia', 'Khushi Jaggi', 'Advik Borah', 'Amani Shan', 'Sumer Ramachandran', 'Hunar Chaudry', 'Misha Viswanathan', 'Inaaya  Chand', 'Amani Basak', 'Sahil Rau', 'Raunak Dara', 'Rati Agate', 'Heer Gera', 'Arhaan Dora', 'Sahil Sankar', 'Tara Agarwal', 'Siya Kalla', 'Vidur Contractor', 'Dharmajan Chhabra', 'Shaan Sama', 'Anaya Chhabra', 'Advika Talwar', 'Emir Choudhry', 'Kashvi Salvi', 'Nirvaan Amble', 'Baiju Arya', 'Dhanuk Borde', 'Nirvaan Raval', 'Rhea Khurana', 'Kavya Gera', 'Madhup Sarma', 'Samaira Lata', 'Divit Bava', 'Himmat Amble', 'Abram Sagar', 'Hunar Mane', 'Sara Sami', 'Nirvi Kanda', 'Neelofar Virk', 'Darshit Bir', 'Shamik Thaman', 'Kartik Sheth', 'Shayak Chawla', 'Riya Dass', 'Uthkarsh Som', 'Ivan Batra', 'Dhanuk Roy', 'Faiyaz Rama', 'Ranbir Singh', 'Myra Raval', 'Rania Sinha', 'Zain Sandal', 'Raghav Agate', 'Hiran Ramachandran', 'Amani Mallick', 'Zoya Shan', 'Ayesha Dani', 'Zaina Soman', 'Dhanush Krishnan']\n"
     ]
    }
   ],
   "source": [
    "names = []\n",
    "i = 0\n",
    "\n",
    "for lawyer in data : \n",
    "    n = lawyer[\"name\"]\n",
    "    if (n in names) : \n",
    "        print(n)  \n",
    "        print(i)\n",
    "    else : names.append(n)\n",
    "    i+=1\n"
   ]
  },
  {
   "cell_type": "code",
   "execution_count": 22,
   "metadata": {},
   "outputs": [
    {
     "ename": "UnicodeDecodeError",
     "evalue": "'utf-8' codec can't decode byte 0xa0 in position 1963: invalid start byte",
     "output_type": "error",
     "traceback": [
      "\u001b[1;31m---------------------------------------------------------------------------\u001b[0m",
      "\u001b[1;31mUnicodeDecodeError\u001b[0m                        Traceback (most recent call last)",
      "\u001b[1;32md:\\Harshil Damania\\DataHack\\Hackathon\\temp.ipynb Cell 5\u001b[0m line \u001b[0;36m8\n\u001b[0;32m      <a href='vscode-notebook-cell:/d%3A/Harshil%20Damania/DataHack/Hackathon/temp.ipynb#W1sZmlsZQ%3D%3D?line=4'>5</a>\u001b[0m \u001b[39mfrom\u001b[39;00m \u001b[39msklearn\u001b[39;00m\u001b[39m.\u001b[39;00m\u001b[39mmetrics\u001b[39;00m \u001b[39mimport\u001b[39;00m accuracy_score, classification_report\n\u001b[0;32m      <a href='vscode-notebook-cell:/d%3A/Harshil%20Damania/DataHack/Hackathon/temp.ipynb#W1sZmlsZQ%3D%3D?line=6'>7</a>\u001b[0m \u001b[39m# Load your dataset (replace 'your_dataset.csv' with your file path)\u001b[39;00m\n\u001b[1;32m----> <a href='vscode-notebook-cell:/d%3A/Harshil%20Damania/DataHack/Hackathon/temp.ipynb#W1sZmlsZQ%3D%3D?line=7'>8</a>\u001b[0m data \u001b[39m=\u001b[39m pd\u001b[39m.\u001b[39;49mread_csv(\u001b[39m'\u001b[39;49m\u001b[39mqueryData.csv\u001b[39;49m\u001b[39m'\u001b[39;49m)\n\u001b[0;32m     <a href='vscode-notebook-cell:/d%3A/Harshil%20Damania/DataHack/Hackathon/temp.ipynb#W1sZmlsZQ%3D%3D?line=9'>10</a>\u001b[0m \u001b[39m# Split the data into features (queries) and labels (topics)\u001b[39;00m\n\u001b[0;32m     <a href='vscode-notebook-cell:/d%3A/Harshil%20Damania/DataHack/Hackathon/temp.ipynb#W1sZmlsZQ%3D%3D?line=10'>11</a>\u001b[0m X \u001b[39m=\u001b[39m data[\u001b[39m'\u001b[39m\u001b[39mQuery\u001b[39m\u001b[39m'\u001b[39m]\n",
      "File \u001b[1;32mc:\\Users\\hdama\\AppData\\Local\\Programs\\Python\\Python311\\Lib\\site-packages\\pandas\\io\\parsers\\readers.py:912\u001b[0m, in \u001b[0;36mread_csv\u001b[1;34m(filepath_or_buffer, sep, delimiter, header, names, index_col, usecols, dtype, engine, converters, true_values, false_values, skipinitialspace, skiprows, skipfooter, nrows, na_values, keep_default_na, na_filter, verbose, skip_blank_lines, parse_dates, infer_datetime_format, keep_date_col, date_parser, date_format, dayfirst, cache_dates, iterator, chunksize, compression, thousands, decimal, lineterminator, quotechar, quoting, doublequote, escapechar, comment, encoding, encoding_errors, dialect, on_bad_lines, delim_whitespace, low_memory, memory_map, float_precision, storage_options, dtype_backend)\u001b[0m\n\u001b[0;32m    899\u001b[0m kwds_defaults \u001b[39m=\u001b[39m _refine_defaults_read(\n\u001b[0;32m    900\u001b[0m     dialect,\n\u001b[0;32m    901\u001b[0m     delimiter,\n\u001b[1;32m   (...)\u001b[0m\n\u001b[0;32m    908\u001b[0m     dtype_backend\u001b[39m=\u001b[39mdtype_backend,\n\u001b[0;32m    909\u001b[0m )\n\u001b[0;32m    910\u001b[0m kwds\u001b[39m.\u001b[39mupdate(kwds_defaults)\n\u001b[1;32m--> 912\u001b[0m \u001b[39mreturn\u001b[39;00m _read(filepath_or_buffer, kwds)\n",
      "File \u001b[1;32mc:\\Users\\hdama\\AppData\\Local\\Programs\\Python\\Python311\\Lib\\site-packages\\pandas\\io\\parsers\\readers.py:577\u001b[0m, in \u001b[0;36m_read\u001b[1;34m(filepath_or_buffer, kwds)\u001b[0m\n\u001b[0;32m    574\u001b[0m _validate_names(kwds\u001b[39m.\u001b[39mget(\u001b[39m\"\u001b[39m\u001b[39mnames\u001b[39m\u001b[39m\"\u001b[39m, \u001b[39mNone\u001b[39;00m))\n\u001b[0;32m    576\u001b[0m \u001b[39m# Create the parser.\u001b[39;00m\n\u001b[1;32m--> 577\u001b[0m parser \u001b[39m=\u001b[39m TextFileReader(filepath_or_buffer, \u001b[39m*\u001b[39;49m\u001b[39m*\u001b[39;49mkwds)\n\u001b[0;32m    579\u001b[0m \u001b[39mif\u001b[39;00m chunksize \u001b[39mor\u001b[39;00m iterator:\n\u001b[0;32m    580\u001b[0m     \u001b[39mreturn\u001b[39;00m parser\n",
      "File \u001b[1;32mc:\\Users\\hdama\\AppData\\Local\\Programs\\Python\\Python311\\Lib\\site-packages\\pandas\\io\\parsers\\readers.py:1407\u001b[0m, in \u001b[0;36mTextFileReader.__init__\u001b[1;34m(self, f, engine, **kwds)\u001b[0m\n\u001b[0;32m   1404\u001b[0m     \u001b[39mself\u001b[39m\u001b[39m.\u001b[39moptions[\u001b[39m\"\u001b[39m\u001b[39mhas_index_names\u001b[39m\u001b[39m\"\u001b[39m] \u001b[39m=\u001b[39m kwds[\u001b[39m\"\u001b[39m\u001b[39mhas_index_names\u001b[39m\u001b[39m\"\u001b[39m]\n\u001b[0;32m   1406\u001b[0m \u001b[39mself\u001b[39m\u001b[39m.\u001b[39mhandles: IOHandles \u001b[39m|\u001b[39m \u001b[39mNone\u001b[39;00m \u001b[39m=\u001b[39m \u001b[39mNone\u001b[39;00m\n\u001b[1;32m-> 1407\u001b[0m \u001b[39mself\u001b[39m\u001b[39m.\u001b[39m_engine \u001b[39m=\u001b[39m \u001b[39mself\u001b[39;49m\u001b[39m.\u001b[39;49m_make_engine(f, \u001b[39mself\u001b[39;49m\u001b[39m.\u001b[39;49mengine)\n",
      "File \u001b[1;32mc:\\Users\\hdama\\AppData\\Local\\Programs\\Python\\Python311\\Lib\\site-packages\\pandas\\io\\parsers\\readers.py:1679\u001b[0m, in \u001b[0;36mTextFileReader._make_engine\u001b[1;34m(self, f, engine)\u001b[0m\n\u001b[0;32m   1676\u001b[0m     \u001b[39mraise\u001b[39;00m \u001b[39mValueError\u001b[39;00m(msg)\n\u001b[0;32m   1678\u001b[0m \u001b[39mtry\u001b[39;00m:\n\u001b[1;32m-> 1679\u001b[0m     \u001b[39mreturn\u001b[39;00m mapping[engine](f, \u001b[39m*\u001b[39;49m\u001b[39m*\u001b[39;49m\u001b[39mself\u001b[39;49m\u001b[39m.\u001b[39;49moptions)\n\u001b[0;32m   1680\u001b[0m \u001b[39mexcept\u001b[39;00m \u001b[39mException\u001b[39;00m:\n\u001b[0;32m   1681\u001b[0m     \u001b[39mif\u001b[39;00m \u001b[39mself\u001b[39m\u001b[39m.\u001b[39mhandles \u001b[39mis\u001b[39;00m \u001b[39mnot\u001b[39;00m \u001b[39mNone\u001b[39;00m:\n",
      "File \u001b[1;32mc:\\Users\\hdama\\AppData\\Local\\Programs\\Python\\Python311\\Lib\\site-packages\\pandas\\io\\parsers\\c_parser_wrapper.py:93\u001b[0m, in \u001b[0;36mCParserWrapper.__init__\u001b[1;34m(self, src, **kwds)\u001b[0m\n\u001b[0;32m     90\u001b[0m \u001b[39mif\u001b[39;00m kwds[\u001b[39m\"\u001b[39m\u001b[39mdtype_backend\u001b[39m\u001b[39m\"\u001b[39m] \u001b[39m==\u001b[39m \u001b[39m\"\u001b[39m\u001b[39mpyarrow\u001b[39m\u001b[39m\"\u001b[39m:\n\u001b[0;32m     91\u001b[0m     \u001b[39m# Fail here loudly instead of in cython after reading\u001b[39;00m\n\u001b[0;32m     92\u001b[0m     import_optional_dependency(\u001b[39m\"\u001b[39m\u001b[39mpyarrow\u001b[39m\u001b[39m\"\u001b[39m)\n\u001b[1;32m---> 93\u001b[0m \u001b[39mself\u001b[39m\u001b[39m.\u001b[39m_reader \u001b[39m=\u001b[39m parsers\u001b[39m.\u001b[39;49mTextReader(src, \u001b[39m*\u001b[39;49m\u001b[39m*\u001b[39;49mkwds)\n\u001b[0;32m     95\u001b[0m \u001b[39mself\u001b[39m\u001b[39m.\u001b[39munnamed_cols \u001b[39m=\u001b[39m \u001b[39mself\u001b[39m\u001b[39m.\u001b[39m_reader\u001b[39m.\u001b[39munnamed_cols\n\u001b[0;32m     97\u001b[0m \u001b[39m# error: Cannot determine type of 'names'\u001b[39;00m\n",
      "File \u001b[1;32mc:\\Users\\hdama\\AppData\\Local\\Programs\\Python\\Python311\\Lib\\site-packages\\pandas\\_libs\\parsers.pyx:548\u001b[0m, in \u001b[0;36mpandas._libs.parsers.TextReader.__cinit__\u001b[1;34m()\u001b[0m\n",
      "File \u001b[1;32mc:\\Users\\hdama\\AppData\\Local\\Programs\\Python\\Python311\\Lib\\site-packages\\pandas\\_libs\\parsers.pyx:637\u001b[0m, in \u001b[0;36mpandas._libs.parsers.TextReader._get_header\u001b[1;34m()\u001b[0m\n",
      "File \u001b[1;32mc:\\Users\\hdama\\AppData\\Local\\Programs\\Python\\Python311\\Lib\\site-packages\\pandas\\_libs\\parsers.pyx:848\u001b[0m, in \u001b[0;36mpandas._libs.parsers.TextReader._tokenize_rows\u001b[1;34m()\u001b[0m\n",
      "File \u001b[1;32mc:\\Users\\hdama\\AppData\\Local\\Programs\\Python\\Python311\\Lib\\site-packages\\pandas\\_libs\\parsers.pyx:859\u001b[0m, in \u001b[0;36mpandas._libs.parsers.TextReader._check_tokenize_status\u001b[1;34m()\u001b[0m\n",
      "File \u001b[1;32mc:\\Users\\hdama\\AppData\\Local\\Programs\\Python\\Python311\\Lib\\site-packages\\pandas\\_libs\\parsers.pyx:2017\u001b[0m, in \u001b[0;36mpandas._libs.parsers.raise_parser_error\u001b[1;34m()\u001b[0m\n",
      "\u001b[1;31mUnicodeDecodeError\u001b[0m: 'utf-8' codec can't decode byte 0xa0 in position 1963: invalid start byte"
     ]
    }
   ],
   "source": [
    "import pandas as pd\n",
    "from sklearn.feature_extraction.text import TfidfVectorizer\n",
    "from sklearn.model_selection import train_test_split\n",
    "from sklearn.naive_bayes import MultinomialNB\n",
    "from sklearn.metrics import accuracy_score, classification_report\n",
    "\n",
    "# Load your dataset (replace 'your_dataset.csv' with your file path)\n",
    "data = pd.read_csv('queryData.csv')\n",
    "\n",
    "# Split the data into features (queries) and labels (topics)\n",
    "X = data['Query']\n",
    "y = data['Topic']\n",
    "\n",
    "# Split the data into training and testing sets\n",
    "# X_train, X_test, y_train, y_test = train_test_split(X, y, test_size=0.2, random_state=42)\n",
    "\n",
    "# Create a TF-IDF vectorizer to convert text data into numerical features\n",
    "tfidf_vectorizer = TfidfVectorizer()\n",
    "X_train_tfidf = tfidf_vectorizer.fit_transform(X)\n",
    "# X_test_tfidf = tfidf_vectorizer.transform(X_test)\n",
    "\n",
    "# Create and train the classifier (Multinomial Naive Bayes)\n",
    "classifier = MultinomialNB()\n",
    "classifier.fit(X_train_tfidf, y)\n",
    "\n",
    "# Make predictions on the test data\n",
    "# y_pred = classifier.predict(X)\n",
    "\n",
    "# Evaluate the model\n",
    "# accuracy = accuracy_score(X, y_pred)\n",
    "# print(f'Accuracy: {accuracy:.2f}')\n",
    "# print(classification_report(y_test, y_pred))\n",
    "\n",
    "# Now, you can use the trained model to classify new queries\n",
    "new_queries = [\"I am a filmmaker and I am trying to raise money for my next film. I need a lawyer to help me draft and negotiate contracts with investors.\", \"I am trying to get a green card, but I have been denied. I need a lawyer to help me understand the reasons for the denial and to file an appeal.\"]\n",
    "new_queries_tfidf = tfidf_vectorizer.transform(new_queries)\n",
    "predicted_topics = classifier.predict(new_queries_tfidf)\n",
    "print(\"Predicted topics for new queries:\", predicted_topics)\n"
   ]
  }
 ],
 "metadata": {
  "kernelspec": {
   "display_name": "Python 3",
   "language": "python",
   "name": "python3"
  },
  "language_info": {
   "codemirror_mode": {
    "name": "ipython",
    "version": 3
   },
   "file_extension": ".py",
   "mimetype": "text/x-python",
   "name": "python",
   "nbconvert_exporter": "python",
   "pygments_lexer": "ipython3",
   "version": "3.11.4"
  }
 },
 "nbformat": 4,
 "nbformat_minor": 2
}
