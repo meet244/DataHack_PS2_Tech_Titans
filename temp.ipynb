{
 "cells": [
  {
   "cell_type": "code",
   "execution_count": 1,
   "metadata": {},
   "outputs": [
    {
     "name": "stdout",
     "output_type": "stream",
     "text": [
      "Labor\n",
      "Consumer Protection\n",
      "Corporate\n",
      "Criminal\n",
      "Intellectual Property\n",
      "Tax\n",
      "Civil\n",
      "Human Rights\n",
      "Family\n",
      "Real Estate\n",
      "Constitutional\n",
      "Media\n",
      "Entertainment\n",
      "Medical\n",
      "Immigration\n",
      "Environmental\n",
      "Finance\n",
      "Banking\n",
      "18\n"
     ]
    }
   ],
   "source": [
    "import json\n",
    "with open('lawyers.json') as f:\n",
    "    data = json.load(f)\n",
    "\n",
    "uniq = []\n",
    "for i in data:\n",
    "    for j in i['typesOfCases']:\n",
    "        j = j.replace(\"and \",'').replace(\" Law\",'')\n",
    "        if(j not in uniq):\n",
    "            print(j)\n",
    "            uniq.append(j)\n",
    "    # break\n",
    "print(len(uniq))\n",
    "# print((uniq))"
   ]
  },
  {
   "cell_type": "code",
   "execution_count": 12,
   "metadata": {},
   "outputs": [
    {
     "name": "stdout",
     "output_type": "stream",
     "text": [
      "Predicted topics for new queries: ['Family' 'Family']\n"
     ]
    }
   ],
   "source": [
    "import pandas as pd\n",
    "from sklearn.feature_extraction.text import TfidfVectorizer\n",
    "from sklearn.model_selection import train_test_split\n",
    "from sklearn.naive_bayes import MultinomialNB\n",
    "from sklearn.metrics import accuracy_score, classification_report\n",
    "\n",
    "# Load your dataset (replace 'your_dataset.csv' with your file path)\n",
    "data = pd.read_csv('queryData.csv')\n",
    "\n",
    "# Split the data into features (queries) and labels (topics)\n",
    "X = data['Query']\n",
    "y = data['Topic']\n",
    "\n",
    "# Split the data into training and testing sets\n",
    "# X_train, X_test, y_train, y_test = train_test_split(X, y, test_size=0.2, random_state=42)\n",
    "\n",
    "# Create a TF-IDF vectorizer to convert text data into numerical features\n",
    "tfidf_vectorizer = TfidfVectorizer()\n",
    "X_train_tfidf = tfidf_vectorizer.fit_transform(X)\n",
    "# X_test_tfidf = tfidf_vectorizer.transform(X_test)\n",
    "\n",
    "# Create and train the classifier (Multinomial Naive Bayes)\n",
    "classifier = MultinomialNB()\n",
    "classifier.fit(X_train_tfidf, y)\n",
    "\n",
    "# Make predictions on the test data\n",
    "# y_pred = classifier.predict(X)\n",
    "\n",
    "# Evaluate the model\n",
    "# accuracy = accuracy_score(X, y_pred)\n",
    "# print(f'Accuracy: {accuracy:.2f}')\n",
    "# print(classification_report(y_test, y_pred))\n",
    "\n",
    "# Now, you can use the trained model to classify new queries\n",
    "new_queries = [\"I am a filmmaker and I am trying to raise money for my next film. I need a lawyer to help me draft and negotiate contracts with investors.\", \"I am trying to get a green card, but I have been denied. I need a lawyer to help me understand the reasons for the denial and to file an appeal.\"]\n",
    "new_queries_tfidf = tfidf_vectorizer.transform(new_queries)\n",
    "predicted_topics = classifier.predict(new_queries_tfidf)\n",
    "print(\"Predicted topics for new queries:\", predicted_topics)\n"
   ]
  }
 ],
 "metadata": {
  "kernelspec": {
   "display_name": "Python 3",
   "language": "python",
   "name": "python3"
  },
  "language_info": {
   "codemirror_mode": {
    "name": "ipython",
    "version": 3
   },
   "file_extension": ".py",
   "mimetype": "text/x-python",
   "name": "python",
   "nbconvert_exporter": "python",
   "pygments_lexer": "ipython3",
   "version": "3.11.4"
  }
 },
 "nbformat": 4,
 "nbformat_minor": 2
}
