{
 "cells": [
  {
   "cell_type": "code",
   "execution_count": 17,
   "metadata": {},
   "outputs": [
    {
     "name": "stdout",
     "output_type": "stream",
     "text": [
      "Labor\n",
      "Consumer Protection\n",
      "Corporate\n",
      "Criminal\n",
      "Intellectual Property\n",
      "Tax\n",
      "Civil\n",
      "Human Rights\n",
      "Family\n",
      "Real Estate\n",
      "Constitutional\n",
      "Media\n",
      "Entertainment\n",
      "Medical\n",
      "Immigration\n",
      "Environmental\n",
      "Finance\n",
      "Banking\n",
      "18\n",
      "['Labor', 'Consumer Protection', 'Corporate', 'Criminal', 'Intellectual Property', 'Tax', 'Civil', 'Human Rights', 'Family', 'Real Estate', 'Constitutional', 'Media', 'Entertainment', 'Medical', 'Immigration', 'Environmental', 'Finance', 'Banking']\n"
     ]
    }
   ],
   "source": [
    "import json\n",
    "with open('lawyers.json') as f:\n",
    "    data = json.load(f)\n",
    "\n",
    "uniq = []\n",
    "for i in data:\n",
    "    for j in i['typesOfCases']:\n",
    "        j = j.replace(\"and \",'').replace(\" Law\",'')\n",
    "        if(j not in uniq):\n",
    "            print(j)\n",
    "            uniq.append(j)\n",
    "    # break\n",
    "print(len(uniq))\n",
    "print((uniq))"
   ]
  }
 ],
 "metadata": {
  "kernelspec": {
   "display_name": "Python 3",
   "language": "python",
   "name": "python3"
  },
  "language_info": {
   "codemirror_mode": {
    "name": "ipython",
    "version": 3
   },
   "file_extension": ".py",
   "mimetype": "text/x-python",
   "name": "python",
   "nbconvert_exporter": "python",
   "pygments_lexer": "ipython3",
   "version": "3.11.4"
  }
 },
 "nbformat": 4,
 "nbformat_minor": 2
}
